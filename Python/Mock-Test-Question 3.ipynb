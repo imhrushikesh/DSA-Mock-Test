{
 "cells": [
  {
   "cell_type": "markdown",
   "id": "104bc23a-d9a7-4ed7-b311-20b6b41d60bb",
   "metadata": {},
   "source": [
    "## Question 3\n",
    "\n",
    "**Ans:**"
   ]
  },
  {
   "cell_type": "code",
   "execution_count": null,
   "id": "0284580e-90cc-4cae-8350-e8c00d26f584",
   "metadata": {},
   "outputs": [],
   "source": []
  }
 ],
 "metadata": {
  "kernelspec": {
   "display_name": "Python 3 (ipykernel)",
   "language": "python",
   "name": "python3"
  },
  "language_info": {
   "codemirror_mode": {
    "name": "ipython",
    "version": 3
   },
   "file_extension": ".py",
   "mimetype": "text/x-python",
   "name": "python",
   "nbconvert_exporter": "python",
   "pygments_lexer": "ipython3",
   "version": "3.10.10"
  }
 },
 "nbformat": 4,
 "nbformat_minor": 5
}
